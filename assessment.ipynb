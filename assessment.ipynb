{
 "cells": [
  {
   "cell_type": "code",
   "execution_count": 2,
   "id": "0e5412b3-4b9a-4dc9-be8c-7ec6285f6b88",
   "metadata": {},
   "outputs": [
    {
     "name": "stdout",
     "output_type": "stream",
     "text": [
      "Hello World\n"
     ]
    }
   ],
   "source": [
    "print(\"Hello World\")"
   ]
  },
  {
   "cell_type": "code",
   "execution_count": 3,
   "id": "b309836b-d1b1-474c-a97f-1e08c46d86fd",
   "metadata": {},
   "outputs": [],
   "source": [
    "import zipfile as zf"
   ]
  },
  {
   "cell_type": "code",
   "execution_count": 8,
   "id": "b17c3b66-8801-4d6c-99b6-8f8a9ba9ccf8",
   "metadata": {},
   "outputs": [],
   "source": [
    "def view_zip_items(name):\n",
    "    with zf.ZipFile(name,'r') as zip_file:\n",
    "        files = zip_file.namelist()\n",
    "    return files"
   ]
  },
  {
   "cell_type": "code",
   "execution_count": 6,
   "id": "e3f2af2d-9896-4603-b08d-e8278d01ca65",
   "metadata": {},
   "outputs": [
    {
     "data": {
      "text/plain": [
       "['ASSESSMENT_QUESTON.pdf',\n",
       " 'sensor_data_2025.zip',\n",
       " 'Template_of_Final_Assessment.ipynb']"
      ]
     },
     "execution_count": 6,
     "metadata": {},
     "output_type": "execute_result"
    }
   ],
   "source": [
    "files"
   ]
  },
  {
   "cell_type": "code",
   "execution_count": 9,
   "id": "15239fbb-ecfa-4226-9be0-ff9b02d04519",
   "metadata": {},
   "outputs": [],
   "source": [
    "def extract_zip(name):\n",
    "    with zf.ZipFile(name,'r') as zip_file:\n",
    "        zip_file.extractall(f'{name}_extracted_zip')"
   ]
  },
  {
   "cell_type": "code",
   "execution_count": 10,
   "id": "0b0b2476-abfb-454b-9876-dd53d7702d4e",
   "metadata": {},
   "outputs": [],
   "source": [
    "extract_zip('Python Assessment.zip')"
   ]
  },
  {
   "cell_type": "code",
   "execution_count": null,
   "id": "c0e22609-37c3-4871-9ab0-395f823e3a73",
   "metadata": {},
   "outputs": [],
   "source": []
  }
 ],
 "metadata": {
  "kernelspec": {
   "display_name": "Python 3 (ipykernel)",
   "language": "python",
   "name": "python3"
  },
  "language_info": {
   "codemirror_mode": {
    "name": "ipython",
    "version": 3
   },
   "file_extension": ".py",
   "mimetype": "text/x-python",
   "name": "python",
   "nbconvert_exporter": "python",
   "pygments_lexer": "ipython3",
   "version": "3.13.5"
  }
 },
 "nbformat": 4,
 "nbformat_minor": 5
}
