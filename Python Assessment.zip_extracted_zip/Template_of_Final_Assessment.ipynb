{
 "cells": [
  {
   "cell_type": "markdown",
   "metadata": {
    "id": "efd795a1"
   },
   "source": [
    "# Assessment Problem\n",
    "Write a Python script that processes sensor data from a zip file (`sensor_data_2025.zip`). The script should:\n",
    "1. Extract data from nested city zip files (e.g., `munich_data.zip`, `tokyo_data.zip`), reading ``readings.csv`` and `station_info.json` from each.\n",
    "2. Add a `city` column to each DataFrame with the city's name.\n",
    "3. Combine the data into two main DataFrames: one for readings and one for station info.\n",
    "4. Merge these two DataFrames on `station_id`.\n",
    "5. Clean the merged data by keeping only `active` stations and removing rows with missing `temperature_celsius` or `pm2_5`.\n",
    "6. Calculate the average temperature and PM2.5 for each city.\n",
    "7. Save the city summary as a CSV file named `city_summary_report.csv` with columns `city`, `average_temperature`, and `average_pm2_5`."
   ]
  },
  {
   "cell_type": "markdown",
   "metadata": {
    "id": "3a3730b0"
   },
   "source": [
    "## TASK 1: Load and combine data\n",
    "\n",
    "Go through each city's zip file, read the `readings.csv` and `station_info.json` files, add a 'city' column to each DataFrame, and combine them into `all_readings_df` and `all_station_info_df`.\n"
   ]
  },
  {
   "cell_type": "markdown",
   "metadata": {
    "id": "e84b1b8c"
   },
   "source": [
    "**Reasoning**:\n",
    "TASK 1 requires extracting data from nested zip files, processing them, and combining them into two dataframes. This involves using the zipfile library and pandas for data manipulation.\n",
    "\n"
   ]
  },
  {
   "cell_type": "code",
   "execution_count": 1,
   "metadata": {
    "id": "bb305077"
   },
   "outputs": [],
   "source": [
    "# WRITE YOUR CODE HERE\n",
    "import zipfile as zf\n"
   ]
  },
  {
   "cell_type": "code",
   "execution_count": 7,
   "metadata": {},
   "outputs": [],
   "source": [
    "def view_zip_items(dir_name):\n",
    "    with zf.ZipFile(dir_name,'r') as zip_file_obj:\n",
    "        files = zip_file_obj.namelist()\n",
    "    return files"
   ]
  },
  {
   "cell_type": "code",
   "execution_count": 8,
   "metadata": {},
   "outputs": [],
   "source": [
    "def extract_zip_items(dir_name):\n",
    "    with zf.ZipFile(dir_name,'r') as zip_file_obj_1:\n",
    "        zip_file_obj_1.extractall(f'{dir_name}_extracted_files')"
   ]
  },
  {
   "cell_type": "code",
   "execution_count": 10,
   "metadata": {},
   "outputs": [],
   "source": [
    "sensor_data_files = view_zip_items('sensor_data_2025.zip')"
   ]
  },
  {
   "cell_type": "code",
   "execution_count": 11,
   "metadata": {},
   "outputs": [
    {
     "data": {
      "text/plain": [
       "['munich_data.zip', 'tokyo_data.zip', 'sydney_data.zip']"
      ]
     },
     "execution_count": 11,
     "metadata": {},
     "output_type": "execute_result"
    }
   ],
   "source": [
    "sensor_data_files"
   ]
  },
  {
   "cell_type": "code",
   "execution_count": 12,
   "metadata": {},
   "outputs": [
    {
     "data": {
      "text/plain": [
       "['munich_data.zip', 'sydney_data.zip', 'tokyo_data.zip']"
      ]
     },
     "execution_count": 12,
     "metadata": {},
     "output_type": "execute_result"
    }
   ],
   "source": [
    "extract_zip_items('sensor_data_2025.zip')\n",
    "\n",
    "import os\n",
    "sensor_data_files = os.listdir('sensor_data_2025.zip_extracted_files')\n",
    "sensor_data_files"
   ]
  },
  {
   "cell_type": "code",
   "execution_count": 15,
   "metadata": {},
   "outputs": [],
   "source": [
    "for zip_file in sensor_data_files:\n",
    "    file_name = 'sensor_data_2025.zip_extracted_files/'+zip_file\n",
    "    extract_zip_items(file_name)"
   ]
  },
  {
   "cell_type": "code",
   "execution_count": 16,
   "metadata": {},
   "outputs": [
    {
     "data": {
      "text/plain": [
       "'C:\\\\Users\\\\Likhith.Cholleti\\\\OneDrive - Coforge Limited\\\\Desktop\\\\PY_FA_2025_Likhith\\\\Python Assessment.zip_extracted_zip'"
      ]
     },
     "execution_count": 16,
     "metadata": {},
     "output_type": "execute_result"
    }
   ],
   "source": [
    "os.getcwd()"
   ]
  },
  {
   "cell_type": "code",
   "execution_count": 17,
   "metadata": {},
   "outputs": [],
   "source": [
    "import pandas as pd\n",
    "tokyo_csv_data = pd.read_csv(\"tokyo_data.zip_extracted_files/readings.csv\")\n",
    "tokyo_json_data = pd.read_json(\"tokyo_data.zip_extracted_files/station_info.json\")"
   ]
  },
  {
   "cell_type": "code",
   "execution_count": 18,
   "metadata": {},
   "outputs": [
    {
     "data": {
      "text/html": [
       "<div>\n",
       "<style scoped>\n",
       "    .dataframe tbody tr th:only-of-type {\n",
       "        vertical-align: middle;\n",
       "    }\n",
       "\n",
       "    .dataframe tbody tr th {\n",
       "        vertical-align: top;\n",
       "    }\n",
       "\n",
       "    .dataframe thead th {\n",
       "        text-align: right;\n",
       "    }\n",
       "</style>\n",
       "<table border=\"1\" class=\"dataframe\">\n",
       "  <thead>\n",
       "    <tr style=\"text-align: right;\">\n",
       "      <th></th>\n",
       "      <th>station_id</th>\n",
       "      <th>timestamp</th>\n",
       "      <th>temperature_celsius</th>\n",
       "      <th>humidity_percent</th>\n",
       "      <th>pm2_5</th>\n",
       "    </tr>\n",
       "  </thead>\n",
       "  <tbody>\n",
       "    <tr>\n",
       "      <th>0</th>\n",
       "      <td>1006</td>\n",
       "      <td>2025-03-05 23:00:00</td>\n",
       "      <td>11.14</td>\n",
       "      <td>92.50</td>\n",
       "      <td>43.29</td>\n",
       "    </tr>\n",
       "    <tr>\n",
       "      <th>1</th>\n",
       "      <td>1006</td>\n",
       "      <td>2025-03-31 01:00:00</td>\n",
       "      <td>9.97</td>\n",
       "      <td>94.61</td>\n",
       "      <td>34.22</td>\n",
       "    </tr>\n",
       "    <tr>\n",
       "      <th>2</th>\n",
       "      <td>1006</td>\n",
       "      <td>2025-01-14 09:00:00</td>\n",
       "      <td>18.95</td>\n",
       "      <td>54.45</td>\n",
       "      <td>36.74</td>\n",
       "    </tr>\n",
       "    <tr>\n",
       "      <th>3</th>\n",
       "      <td>1006</td>\n",
       "      <td>2025-02-01 02:00:00</td>\n",
       "      <td>16.94</td>\n",
       "      <td>61.41</td>\n",
       "      <td>13.78</td>\n",
       "    </tr>\n",
       "    <tr>\n",
       "      <th>4</th>\n",
       "      <td>1006</td>\n",
       "      <td>2025-01-27 14:00:00</td>\n",
       "      <td>14.38</td>\n",
       "      <td>54.03</td>\n",
       "      <td>10.38</td>\n",
       "    </tr>\n",
       "  </tbody>\n",
       "</table>\n",
       "</div>"
      ],
      "text/plain": [
       "   station_id            timestamp  temperature_celsius  humidity_percent  \\\n",
       "0        1006  2025-03-05 23:00:00                11.14             92.50   \n",
       "1        1006  2025-03-31 01:00:00                 9.97             94.61   \n",
       "2        1006  2025-01-14 09:00:00                18.95             54.45   \n",
       "3        1006  2025-02-01 02:00:00                16.94             61.41   \n",
       "4        1006  2025-01-27 14:00:00                14.38             54.03   \n",
       "\n",
       "   pm2_5  \n",
       "0  43.29  \n",
       "1  34.22  \n",
       "2  36.74  \n",
       "3  13.78  \n",
       "4  10.38  "
      ]
     },
     "execution_count": 18,
     "metadata": {},
     "output_type": "execute_result"
    }
   ],
   "source": [
    "tokyo_csv_data.head()"
   ]
  },
  {
   "cell_type": "code",
   "execution_count": 19,
   "metadata": {},
   "outputs": [
    {
     "data": {
      "text/html": [
       "<div>\n",
       "<style scoped>\n",
       "    .dataframe tbody tr th:only-of-type {\n",
       "        vertical-align: middle;\n",
       "    }\n",
       "\n",
       "    .dataframe tbody tr th {\n",
       "        vertical-align: top;\n",
       "    }\n",
       "\n",
       "    .dataframe thead th {\n",
       "        text-align: right;\n",
       "    }\n",
       "</style>\n",
       "<table border=\"1\" class=\"dataframe\">\n",
       "  <thead>\n",
       "    <tr style=\"text-align: right;\">\n",
       "      <th></th>\n",
       "      <th>station_id</th>\n",
       "      <th>location</th>\n",
       "      <th>status</th>\n",
       "      <th>deployment_year</th>\n",
       "    </tr>\n",
       "  </thead>\n",
       "  <tbody>\n",
       "    <tr>\n",
       "      <th>0</th>\n",
       "      <td>1006</td>\n",
       "      <td>{'latitude': 35.668296, 'longitude': 139.765741}</td>\n",
       "      <td>active</td>\n",
       "      <td>2018</td>\n",
       "    </tr>\n",
       "    <tr>\n",
       "      <th>1</th>\n",
       "      <td>1007</td>\n",
       "      <td>{'latitude': 35.696896, 'longitude': 139.727376}</td>\n",
       "      <td>active</td>\n",
       "      <td>2018</td>\n",
       "    </tr>\n",
       "    <tr>\n",
       "      <th>2</th>\n",
       "      <td>1008</td>\n",
       "      <td>{'latitude': 35.680416, 'longitude': 139.707532}</td>\n",
       "      <td>active</td>\n",
       "      <td>2023</td>\n",
       "    </tr>\n",
       "    <tr>\n",
       "      <th>3</th>\n",
       "      <td>1009</td>\n",
       "      <td>{'latitude': 35.667885, 'longitude': 139.730315}</td>\n",
       "      <td>active</td>\n",
       "      <td>2023</td>\n",
       "    </tr>\n",
       "    <tr>\n",
       "      <th>4</th>\n",
       "      <td>1010</td>\n",
       "      <td>{'latitude': 35.61944, 'longitude': 139.76487}</td>\n",
       "      <td>active</td>\n",
       "      <td>2020</td>\n",
       "    </tr>\n",
       "  </tbody>\n",
       "</table>\n",
       "</div>"
      ],
      "text/plain": [
       "   station_id                                          location  status  \\\n",
       "0        1006  {'latitude': 35.668296, 'longitude': 139.765741}  active   \n",
       "1        1007  {'latitude': 35.696896, 'longitude': 139.727376}  active   \n",
       "2        1008  {'latitude': 35.680416, 'longitude': 139.707532}  active   \n",
       "3        1009  {'latitude': 35.667885, 'longitude': 139.730315}  active   \n",
       "4        1010    {'latitude': 35.61944, 'longitude': 139.76487}  active   \n",
       "\n",
       "   deployment_year  \n",
       "0             2018  \n",
       "1             2018  \n",
       "2             2023  \n",
       "3             2023  \n",
       "4             2020  "
      ]
     },
     "execution_count": 19,
     "metadata": {},
     "output_type": "execute_result"
    }
   ],
   "source": [
    "tokyo_json_data.head()"
   ]
  },
  {
   "cell_type": "code",
   "execution_count": 20,
   "metadata": {},
   "outputs": [
    {
     "data": {
      "text/plain": [
       "station_id               int64\n",
       "timestamp               object\n",
       "temperature_celsius    float64\n",
       "humidity_percent       float64\n",
       "pm2_5                  float64\n",
       "dtype: object"
      ]
     },
     "execution_count": 20,
     "metadata": {},
     "output_type": "execute_result"
    }
   ],
   "source": [
    "tokyo_csv_data.dtypes"
   ]
  },
  {
   "cell_type": "code",
   "execution_count": 21,
   "metadata": {},
   "outputs": [],
   "source": [
    "tokyo_csv_data['city'] = 'tokyo'"
   ]
  },
  {
   "cell_type": "code",
   "execution_count": 23,
   "metadata": {},
   "outputs": [
    {
     "data": {
      "text/html": [
       "<div>\n",
       "<style scoped>\n",
       "    .dataframe tbody tr th:only-of-type {\n",
       "        vertical-align: middle;\n",
       "    }\n",
       "\n",
       "    .dataframe tbody tr th {\n",
       "        vertical-align: top;\n",
       "    }\n",
       "\n",
       "    .dataframe thead th {\n",
       "        text-align: right;\n",
       "    }\n",
       "</style>\n",
       "<table border=\"1\" class=\"dataframe\">\n",
       "  <thead>\n",
       "    <tr style=\"text-align: right;\">\n",
       "      <th></th>\n",
       "      <th>station_id</th>\n",
       "      <th>timestamp</th>\n",
       "      <th>temperature_celsius</th>\n",
       "      <th>humidity_percent</th>\n",
       "      <th>pm2_5</th>\n",
       "      <th>city</th>\n",
       "    </tr>\n",
       "  </thead>\n",
       "  <tbody>\n",
       "    <tr>\n",
       "      <th>0</th>\n",
       "      <td>1006</td>\n",
       "      <td>2025-03-05 23:00:00</td>\n",
       "      <td>11.14</td>\n",
       "      <td>92.50</td>\n",
       "      <td>43.29</td>\n",
       "      <td>tokyo</td>\n",
       "    </tr>\n",
       "    <tr>\n",
       "      <th>1</th>\n",
       "      <td>1006</td>\n",
       "      <td>2025-03-31 01:00:00</td>\n",
       "      <td>9.97</td>\n",
       "      <td>94.61</td>\n",
       "      <td>34.22</td>\n",
       "      <td>tokyo</td>\n",
       "    </tr>\n",
       "    <tr>\n",
       "      <th>2</th>\n",
       "      <td>1006</td>\n",
       "      <td>2025-01-14 09:00:00</td>\n",
       "      <td>18.95</td>\n",
       "      <td>54.45</td>\n",
       "      <td>36.74</td>\n",
       "      <td>tokyo</td>\n",
       "    </tr>\n",
       "    <tr>\n",
       "      <th>3</th>\n",
       "      <td>1006</td>\n",
       "      <td>2025-02-01 02:00:00</td>\n",
       "      <td>16.94</td>\n",
       "      <td>61.41</td>\n",
       "      <td>13.78</td>\n",
       "      <td>tokyo</td>\n",
       "    </tr>\n",
       "    <tr>\n",
       "      <th>4</th>\n",
       "      <td>1006</td>\n",
       "      <td>2025-01-27 14:00:00</td>\n",
       "      <td>14.38</td>\n",
       "      <td>54.03</td>\n",
       "      <td>10.38</td>\n",
       "      <td>tokyo</td>\n",
       "    </tr>\n",
       "  </tbody>\n",
       "</table>\n",
       "</div>"
      ],
      "text/plain": [
       "   station_id            timestamp  temperature_celsius  humidity_percent  \\\n",
       "0        1006  2025-03-05 23:00:00                11.14             92.50   \n",
       "1        1006  2025-03-31 01:00:00                 9.97             94.61   \n",
       "2        1006  2025-01-14 09:00:00                18.95             54.45   \n",
       "3        1006  2025-02-01 02:00:00                16.94             61.41   \n",
       "4        1006  2025-01-27 14:00:00                14.38             54.03   \n",
       "\n",
       "   pm2_5   city  \n",
       "0  43.29  tokyo  \n",
       "1  34.22  tokyo  \n",
       "2  36.74  tokyo  \n",
       "3  13.78  tokyo  \n",
       "4  10.38  tokyo  "
      ]
     },
     "execution_count": 23,
     "metadata": {},
     "output_type": "execute_result"
    }
   ],
   "source": [
    "tokyo_csv_data.head()"
   ]
  },
  {
   "cell_type": "code",
   "execution_count": 24,
   "metadata": {},
   "outputs": [],
   "source": [
    "tokyo_json_data['city'] = 'tokyo'"
   ]
  },
  {
   "cell_type": "code",
   "execution_count": 25,
   "metadata": {},
   "outputs": [
    {
     "data": {
      "text/html": [
       "<div>\n",
       "<style scoped>\n",
       "    .dataframe tbody tr th:only-of-type {\n",
       "        vertical-align: middle;\n",
       "    }\n",
       "\n",
       "    .dataframe tbody tr th {\n",
       "        vertical-align: top;\n",
       "    }\n",
       "\n",
       "    .dataframe thead th {\n",
       "        text-align: right;\n",
       "    }\n",
       "</style>\n",
       "<table border=\"1\" class=\"dataframe\">\n",
       "  <thead>\n",
       "    <tr style=\"text-align: right;\">\n",
       "      <th></th>\n",
       "      <th>station_id</th>\n",
       "      <th>location</th>\n",
       "      <th>status</th>\n",
       "      <th>deployment_year</th>\n",
       "      <th>city</th>\n",
       "    </tr>\n",
       "  </thead>\n",
       "  <tbody>\n",
       "    <tr>\n",
       "      <th>0</th>\n",
       "      <td>1006</td>\n",
       "      <td>{'latitude': 35.668296, 'longitude': 139.765741}</td>\n",
       "      <td>active</td>\n",
       "      <td>2018</td>\n",
       "      <td>tokyo</td>\n",
       "    </tr>\n",
       "    <tr>\n",
       "      <th>1</th>\n",
       "      <td>1007</td>\n",
       "      <td>{'latitude': 35.696896, 'longitude': 139.727376}</td>\n",
       "      <td>active</td>\n",
       "      <td>2018</td>\n",
       "      <td>tokyo</td>\n",
       "    </tr>\n",
       "    <tr>\n",
       "      <th>2</th>\n",
       "      <td>1008</td>\n",
       "      <td>{'latitude': 35.680416, 'longitude': 139.707532}</td>\n",
       "      <td>active</td>\n",
       "      <td>2023</td>\n",
       "      <td>tokyo</td>\n",
       "    </tr>\n",
       "    <tr>\n",
       "      <th>3</th>\n",
       "      <td>1009</td>\n",
       "      <td>{'latitude': 35.667885, 'longitude': 139.730315}</td>\n",
       "      <td>active</td>\n",
       "      <td>2023</td>\n",
       "      <td>tokyo</td>\n",
       "    </tr>\n",
       "    <tr>\n",
       "      <th>4</th>\n",
       "      <td>1010</td>\n",
       "      <td>{'latitude': 35.61944, 'longitude': 139.76487}</td>\n",
       "      <td>active</td>\n",
       "      <td>2020</td>\n",
       "      <td>tokyo</td>\n",
       "    </tr>\n",
       "  </tbody>\n",
       "</table>\n",
       "</div>"
      ],
      "text/plain": [
       "   station_id                                          location  status  \\\n",
       "0        1006  {'latitude': 35.668296, 'longitude': 139.765741}  active   \n",
       "1        1007  {'latitude': 35.696896, 'longitude': 139.727376}  active   \n",
       "2        1008  {'latitude': 35.680416, 'longitude': 139.707532}  active   \n",
       "3        1009  {'latitude': 35.667885, 'longitude': 139.730315}  active   \n",
       "4        1010    {'latitude': 35.61944, 'longitude': 139.76487}  active   \n",
       "\n",
       "   deployment_year   city  \n",
       "0             2018  tokyo  \n",
       "1             2018  tokyo  \n",
       "2             2023  tokyo  \n",
       "3             2023  tokyo  \n",
       "4             2020  tokyo  "
      ]
     },
     "execution_count": 25,
     "metadata": {},
     "output_type": "execute_result"
    }
   ],
   "source": [
    "tokyo_json_data.head()"
   ]
  },
  {
   "cell_type": "code",
   "execution_count": 26,
   "metadata": {},
   "outputs": [],
   "source": [
    "sydney_csv_data = pd.read_csv(\"sydney_data.zip_extracted_files/readings.csv\")\n",
    "sydney_json_data = pd.read_json(\"sydney_data.zip_extracted_files/station_info.json\")\n",
    "munich_csv_data = pd.read_csv(\"munich_data.zip_extracted_files/readings.csv\")\n",
    "munich_json_data = pd.read_json(\"munich_data.zip_extracted_files/station_info.json\")"
   ]
  },
  {
   "cell_type": "code",
   "execution_count": 27,
   "metadata": {},
   "outputs": [],
   "source": [
    "sydney_csv_data['city'] = 'sydney'\n",
    "sydney_json_data['city'] = 'sydney'\n",
    "munich_csv_data['city'] = 'munich'\n",
    "munich_json_data['city'] = 'munich'"
   ]
  },
  {
   "cell_type": "code",
   "execution_count": 28,
   "metadata": {},
   "outputs": [
    {
     "data": {
      "text/html": [
       "<div>\n",
       "<style scoped>\n",
       "    .dataframe tbody tr th:only-of-type {\n",
       "        vertical-align: middle;\n",
       "    }\n",
       "\n",
       "    .dataframe tbody tr th {\n",
       "        vertical-align: top;\n",
       "    }\n",
       "\n",
       "    .dataframe thead th {\n",
       "        text-align: right;\n",
       "    }\n",
       "</style>\n",
       "<table border=\"1\" class=\"dataframe\">\n",
       "  <thead>\n",
       "    <tr style=\"text-align: right;\">\n",
       "      <th></th>\n",
       "      <th>station_id</th>\n",
       "      <th>timestamp</th>\n",
       "      <th>temperature_celsius</th>\n",
       "      <th>humidity_percent</th>\n",
       "      <th>pm2_5</th>\n",
       "      <th>city</th>\n",
       "    </tr>\n",
       "  </thead>\n",
       "  <tbody>\n",
       "    <tr>\n",
       "      <th>0</th>\n",
       "      <td>1011</td>\n",
       "      <td>2025-02-15 04:00:00</td>\n",
       "      <td>21.86</td>\n",
       "      <td>76.34</td>\n",
       "      <td>59.35</td>\n",
       "      <td>sydney</td>\n",
       "    </tr>\n",
       "    <tr>\n",
       "      <th>1</th>\n",
       "      <td>1011</td>\n",
       "      <td>2025-02-28 13:00:00</td>\n",
       "      <td>18.90</td>\n",
       "      <td>50.89</td>\n",
       "      <td>21.21</td>\n",
       "      <td>sydney</td>\n",
       "    </tr>\n",
       "    <tr>\n",
       "      <th>2</th>\n",
       "      <td>1011</td>\n",
       "      <td>2025-02-09 20:00:00</td>\n",
       "      <td>29.05</td>\n",
       "      <td>51.06</td>\n",
       "      <td>59.63</td>\n",
       "      <td>sydney</td>\n",
       "    </tr>\n",
       "    <tr>\n",
       "      <th>3</th>\n",
       "      <td>1011</td>\n",
       "      <td>2025-01-25 13:00:00</td>\n",
       "      <td>26.43</td>\n",
       "      <td>65.09</td>\n",
       "      <td>39.54</td>\n",
       "      <td>sydney</td>\n",
       "    </tr>\n",
       "    <tr>\n",
       "      <th>4</th>\n",
       "      <td>1011</td>\n",
       "      <td>2025-03-16 15:00:00</td>\n",
       "      <td>29.30</td>\n",
       "      <td>46.26</td>\n",
       "      <td>7.25</td>\n",
       "      <td>sydney</td>\n",
       "    </tr>\n",
       "  </tbody>\n",
       "</table>\n",
       "</div>"
      ],
      "text/plain": [
       "   station_id            timestamp  temperature_celsius  humidity_percent  \\\n",
       "0        1011  2025-02-15 04:00:00                21.86             76.34   \n",
       "1        1011  2025-02-28 13:00:00                18.90             50.89   \n",
       "2        1011  2025-02-09 20:00:00                29.05             51.06   \n",
       "3        1011  2025-01-25 13:00:00                26.43             65.09   \n",
       "4        1011  2025-03-16 15:00:00                29.30             46.26   \n",
       "\n",
       "   pm2_5    city  \n",
       "0  59.35  sydney  \n",
       "1  21.21  sydney  \n",
       "2  59.63  sydney  \n",
       "3  39.54  sydney  \n",
       "4   7.25  sydney  "
      ]
     },
     "execution_count": 28,
     "metadata": {},
     "output_type": "execute_result"
    }
   ],
   "source": [
    "sydney_csv_data.head()"
   ]
  },
  {
   "cell_type": "code",
   "execution_count": 29,
   "metadata": {},
   "outputs": [
    {
     "data": {
      "text/html": [
       "<div>\n",
       "<style scoped>\n",
       "    .dataframe tbody tr th:only-of-type {\n",
       "        vertical-align: middle;\n",
       "    }\n",
       "\n",
       "    .dataframe tbody tr th {\n",
       "        vertical-align: top;\n",
       "    }\n",
       "\n",
       "    .dataframe thead th {\n",
       "        text-align: right;\n",
       "    }\n",
       "</style>\n",
       "<table border=\"1\" class=\"dataframe\">\n",
       "  <thead>\n",
       "    <tr style=\"text-align: right;\">\n",
       "      <th></th>\n",
       "      <th>station_id</th>\n",
       "      <th>timestamp</th>\n",
       "      <th>temperature_celsius</th>\n",
       "      <th>humidity_percent</th>\n",
       "      <th>pm2_5</th>\n",
       "      <th>city</th>\n",
       "    </tr>\n",
       "  </thead>\n",
       "  <tbody>\n",
       "    <tr>\n",
       "      <th>0</th>\n",
       "      <td>1001</td>\n",
       "      <td>2025-02-04 23:00:00</td>\n",
       "      <td>14.17</td>\n",
       "      <td>77.11</td>\n",
       "      <td>22.80</td>\n",
       "      <td>munich</td>\n",
       "    </tr>\n",
       "    <tr>\n",
       "      <th>1</th>\n",
       "      <td>1001</td>\n",
       "      <td>2025-01-06 16:00:00</td>\n",
       "      <td>2.66</td>\n",
       "      <td>60.41</td>\n",
       "      <td>29.61</td>\n",
       "      <td>munich</td>\n",
       "    </tr>\n",
       "    <tr>\n",
       "      <th>2</th>\n",
       "      <td>1001</td>\n",
       "      <td>2025-01-01 13:00:00</td>\n",
       "      <td>0.31</td>\n",
       "      <td>53.84</td>\n",
       "      <td>42.90</td>\n",
       "      <td>munich</td>\n",
       "    </tr>\n",
       "    <tr>\n",
       "      <th>3</th>\n",
       "      <td>1001</td>\n",
       "      <td>2025-01-20 11:00:00</td>\n",
       "      <td>14.97</td>\n",
       "      <td>80.40</td>\n",
       "      <td>NaN</td>\n",
       "      <td>munich</td>\n",
       "    </tr>\n",
       "    <tr>\n",
       "      <th>4</th>\n",
       "      <td>1001</td>\n",
       "      <td>2025-02-12 06:00:00</td>\n",
       "      <td>14.22</td>\n",
       "      <td>78.14</td>\n",
       "      <td>62.48</td>\n",
       "      <td>munich</td>\n",
       "    </tr>\n",
       "  </tbody>\n",
       "</table>\n",
       "</div>"
      ],
      "text/plain": [
       "   station_id            timestamp  temperature_celsius  humidity_percent  \\\n",
       "0        1001  2025-02-04 23:00:00                14.17             77.11   \n",
       "1        1001  2025-01-06 16:00:00                 2.66             60.41   \n",
       "2        1001  2025-01-01 13:00:00                 0.31             53.84   \n",
       "3        1001  2025-01-20 11:00:00                14.97             80.40   \n",
       "4        1001  2025-02-12 06:00:00                14.22             78.14   \n",
       "\n",
       "   pm2_5    city  \n",
       "0  22.80  munich  \n",
       "1  29.61  munich  \n",
       "2  42.90  munich  \n",
       "3    NaN  munich  \n",
       "4  62.48  munich  "
      ]
     },
     "execution_count": 29,
     "metadata": {},
     "output_type": "execute_result"
    }
   ],
   "source": [
    "munich_csv_data.head()"
   ]
  },
  {
   "cell_type": "code",
   "execution_count": 30,
   "metadata": {},
   "outputs": [
    {
     "data": {
      "text/plain": [
       "500"
      ]
     },
     "execution_count": 30,
     "metadata": {},
     "output_type": "execute_result"
    }
   ],
   "source": [
    "len(munich_csv_data)"
   ]
  },
  {
   "cell_type": "code",
   "execution_count": 33,
   "metadata": {},
   "outputs": [],
   "source": [
    "all_readings_df = pd.concat([tokyo_csv_data,sydney_csv_data,munich_csv_data],ignore_index=True)"
   ]
  },
  {
   "cell_type": "code",
   "execution_count": 34,
   "metadata": {},
   "outputs": [
    {
     "data": {
      "text/html": [
       "<div>\n",
       "<style scoped>\n",
       "    .dataframe tbody tr th:only-of-type {\n",
       "        vertical-align: middle;\n",
       "    }\n",
       "\n",
       "    .dataframe tbody tr th {\n",
       "        vertical-align: top;\n",
       "    }\n",
       "\n",
       "    .dataframe thead th {\n",
       "        text-align: right;\n",
       "    }\n",
       "</style>\n",
       "<table border=\"1\" class=\"dataframe\">\n",
       "  <thead>\n",
       "    <tr style=\"text-align: right;\">\n",
       "      <th></th>\n",
       "      <th>station_id</th>\n",
       "      <th>timestamp</th>\n",
       "      <th>temperature_celsius</th>\n",
       "      <th>humidity_percent</th>\n",
       "      <th>pm2_5</th>\n",
       "      <th>city</th>\n",
       "    </tr>\n",
       "  </thead>\n",
       "  <tbody>\n",
       "    <tr>\n",
       "      <th>0</th>\n",
       "      <td>1006</td>\n",
       "      <td>2025-03-05 23:00:00</td>\n",
       "      <td>11.14</td>\n",
       "      <td>92.50</td>\n",
       "      <td>43.29</td>\n",
       "      <td>tokyo</td>\n",
       "    </tr>\n",
       "    <tr>\n",
       "      <th>1</th>\n",
       "      <td>1006</td>\n",
       "      <td>2025-03-31 01:00:00</td>\n",
       "      <td>9.97</td>\n",
       "      <td>94.61</td>\n",
       "      <td>34.22</td>\n",
       "      <td>tokyo</td>\n",
       "    </tr>\n",
       "    <tr>\n",
       "      <th>2</th>\n",
       "      <td>1006</td>\n",
       "      <td>2025-01-14 09:00:00</td>\n",
       "      <td>18.95</td>\n",
       "      <td>54.45</td>\n",
       "      <td>36.74</td>\n",
       "      <td>tokyo</td>\n",
       "    </tr>\n",
       "    <tr>\n",
       "      <th>3</th>\n",
       "      <td>1006</td>\n",
       "      <td>2025-02-01 02:00:00</td>\n",
       "      <td>16.94</td>\n",
       "      <td>61.41</td>\n",
       "      <td>13.78</td>\n",
       "      <td>tokyo</td>\n",
       "    </tr>\n",
       "    <tr>\n",
       "      <th>4</th>\n",
       "      <td>1006</td>\n",
       "      <td>2025-01-27 14:00:00</td>\n",
       "      <td>14.38</td>\n",
       "      <td>54.03</td>\n",
       "      <td>10.38</td>\n",
       "      <td>tokyo</td>\n",
       "    </tr>\n",
       "  </tbody>\n",
       "</table>\n",
       "</div>"
      ],
      "text/plain": [
       "   station_id            timestamp  temperature_celsius  humidity_percent  \\\n",
       "0        1006  2025-03-05 23:00:00                11.14             92.50   \n",
       "1        1006  2025-03-31 01:00:00                 9.97             94.61   \n",
       "2        1006  2025-01-14 09:00:00                18.95             54.45   \n",
       "3        1006  2025-02-01 02:00:00                16.94             61.41   \n",
       "4        1006  2025-01-27 14:00:00                14.38             54.03   \n",
       "\n",
       "   pm2_5   city  \n",
       "0  43.29  tokyo  \n",
       "1  34.22  tokyo  \n",
       "2  36.74  tokyo  \n",
       "3  13.78  tokyo  \n",
       "4  10.38  tokyo  "
      ]
     },
     "execution_count": 34,
     "metadata": {},
     "output_type": "execute_result"
    }
   ],
   "source": [
    "all_readings_df.head()"
   ]
  },
  {
   "cell_type": "code",
   "execution_count": 35,
   "metadata": {},
   "outputs": [
    {
     "data": {
      "text/plain": [
       "1500"
      ]
     },
     "execution_count": 35,
     "metadata": {},
     "output_type": "execute_result"
    }
   ],
   "source": [
    "len(all_readings_df)"
   ]
  },
  {
   "cell_type": "code",
   "execution_count": 36,
   "metadata": {},
   "outputs": [],
   "source": [
    "all_station_info_df = pd.concat([tokyo_json_data,sydney_json_data,munich_json_data],ignore_index=True)"
   ]
  },
  {
   "cell_type": "code",
   "execution_count": 37,
   "metadata": {},
   "outputs": [
    {
     "data": {
      "text/plain": [
       "station_id          int64\n",
       "location           object\n",
       "status             object\n",
       "deployment_year     int64\n",
       "city               object\n",
       "dtype: object"
      ]
     },
     "execution_count": 37,
     "metadata": {},
     "output_type": "execute_result"
    }
   ],
   "source": [
    "all_station_info_df.dtypes"
   ]
  },
  {
   "cell_type": "code",
   "execution_count": 38,
   "metadata": {},
   "outputs": [
    {
     "data": {
      "text/plain": [
       "15"
      ]
     },
     "execution_count": 38,
     "metadata": {},
     "output_type": "execute_result"
    }
   ],
   "source": [
    "len(all_station_info_df)"
   ]
  },
  {
   "cell_type": "code",
   "execution_count": 39,
   "metadata": {},
   "outputs": [
    {
     "data": {
      "text/plain": [
       "5"
      ]
     },
     "execution_count": 39,
     "metadata": {},
     "output_type": "execute_result"
    }
   ],
   "source": [
    "len(munich_json_data)"
   ]
  },
  {
   "cell_type": "markdown",
   "metadata": {
    "id": "e7aacbc0"
   },
   "source": [
    "## TASK 2: Merge dataframes\n",
    "\n",
    "Merge the `all_readings_df` and `all_station_info_df` into a single DataFrame using the `station_id` column.\n"
   ]
  },
  {
   "cell_type": "markdown",
   "metadata": {
    "id": "0dfaad49"
   },
   "source": [
    "**Reasoning**:\n",
    "Merge the two dataframes `all_readings_df` and `all_station_info_df` on the `station_id` column and display the head of the resulting dataframe to verify the merge.\n",
    "\n"
   ]
  },
  {
   "cell_type": "code",
   "execution_count": 40,
   "metadata": {
    "id": "cf658701"
   },
   "outputs": [
    {
     "data": {
      "text/plain": [
       "station_id               int64\n",
       "timestamp               object\n",
       "temperature_celsius    float64\n",
       "humidity_percent       float64\n",
       "pm2_5                  float64\n",
       "city                    object\n",
       "dtype: object"
      ]
     },
     "execution_count": 40,
     "metadata": {},
     "output_type": "execute_result"
    }
   ],
   "source": [
    "# WRITE YOUR CODE HERE\n",
    "all_readings_df.dtypes\n"
   ]
  },
  {
   "cell_type": "code",
   "execution_count": 41,
   "metadata": {},
   "outputs": [
    {
     "data": {
      "text/plain": [
       "station_id          int64\n",
       "location           object\n",
       "status             object\n",
       "deployment_year     int64\n",
       "city               object\n",
       "dtype: object"
      ]
     },
     "execution_count": 41,
     "metadata": {},
     "output_type": "execute_result"
    }
   ],
   "source": [
    "all_station_info_df.dtypes"
   ]
  },
  {
   "cell_type": "code",
   "execution_count": 46,
   "metadata": {},
   "outputs": [
    {
     "data": {
      "text/html": [
       "<div>\n",
       "<style scoped>\n",
       "    .dataframe tbody tr th:only-of-type {\n",
       "        vertical-align: middle;\n",
       "    }\n",
       "\n",
       "    .dataframe tbody tr th {\n",
       "        vertical-align: top;\n",
       "    }\n",
       "\n",
       "    .dataframe thead th {\n",
       "        text-align: right;\n",
       "    }\n",
       "</style>\n",
       "<table border=\"1\" class=\"dataframe\">\n",
       "  <thead>\n",
       "    <tr style=\"text-align: right;\">\n",
       "      <th></th>\n",
       "      <th>station_id</th>\n",
       "      <th>location</th>\n",
       "      <th>status</th>\n",
       "      <th>deployment_year</th>\n",
       "      <th>city</th>\n",
       "    </tr>\n",
       "  </thead>\n",
       "  <tbody>\n",
       "    <tr>\n",
       "      <th>0</th>\n",
       "      <td>1006</td>\n",
       "      <td>{'latitude': 35.668296, 'longitude': 139.765741}</td>\n",
       "      <td>active</td>\n",
       "      <td>2018</td>\n",
       "      <td>tokyo</td>\n",
       "    </tr>\n",
       "    <tr>\n",
       "      <th>1</th>\n",
       "      <td>1007</td>\n",
       "      <td>{'latitude': 35.696896, 'longitude': 139.727376}</td>\n",
       "      <td>active</td>\n",
       "      <td>2018</td>\n",
       "      <td>tokyo</td>\n",
       "    </tr>\n",
       "    <tr>\n",
       "      <th>2</th>\n",
       "      <td>1008</td>\n",
       "      <td>{'latitude': 35.680416, 'longitude': 139.707532}</td>\n",
       "      <td>active</td>\n",
       "      <td>2023</td>\n",
       "      <td>tokyo</td>\n",
       "    </tr>\n",
       "    <tr>\n",
       "      <th>3</th>\n",
       "      <td>1009</td>\n",
       "      <td>{'latitude': 35.667885, 'longitude': 139.730315}</td>\n",
       "      <td>active</td>\n",
       "      <td>2023</td>\n",
       "      <td>tokyo</td>\n",
       "    </tr>\n",
       "    <tr>\n",
       "      <th>4</th>\n",
       "      <td>1010</td>\n",
       "      <td>{'latitude': 35.61944, 'longitude': 139.76487}</td>\n",
       "      <td>active</td>\n",
       "      <td>2020</td>\n",
       "      <td>tokyo</td>\n",
       "    </tr>\n",
       "  </tbody>\n",
       "</table>\n",
       "</div>"
      ],
      "text/plain": [
       "   station_id                                          location  status  \\\n",
       "0        1006  {'latitude': 35.668296, 'longitude': 139.765741}  active   \n",
       "1        1007  {'latitude': 35.696896, 'longitude': 139.727376}  active   \n",
       "2        1008  {'latitude': 35.680416, 'longitude': 139.707532}  active   \n",
       "3        1009  {'latitude': 35.667885, 'longitude': 139.730315}  active   \n",
       "4        1010    {'latitude': 35.61944, 'longitude': 139.76487}  active   \n",
       "\n",
       "   deployment_year   city  \n",
       "0             2018  tokyo  \n",
       "1             2018  tokyo  \n",
       "2             2023  tokyo  \n",
       "3             2023  tokyo  \n",
       "4             2020  tokyo  "
      ]
     },
     "execution_count": 46,
     "metadata": {},
     "output_type": "execute_result"
    }
   ],
   "source": [
    "all_station_info_df.head()"
   ]
  },
  {
   "cell_type": "code",
   "execution_count": 47,
   "metadata": {},
   "outputs": [],
   "source": [
    "combined_data = all_readings_df.merge(all_station_info_df,on='station_id')"
   ]
  },
  {
   "cell_type": "code",
   "execution_count": 48,
   "metadata": {},
   "outputs": [
    {
     "data": {
      "text/plain": [
       "1500"
      ]
     },
     "execution_count": 48,
     "metadata": {},
     "output_type": "execute_result"
    }
   ],
   "source": [
    "len(combined_data)"
   ]
  },
  {
   "cell_type": "code",
   "execution_count": 52,
   "metadata": {},
   "outputs": [
    {
     "data": {
      "text/html": [
       "<div>\n",
       "<style scoped>\n",
       "    .dataframe tbody tr th:only-of-type {\n",
       "        vertical-align: middle;\n",
       "    }\n",
       "\n",
       "    .dataframe tbody tr th {\n",
       "        vertical-align: top;\n",
       "    }\n",
       "\n",
       "    .dataframe thead th {\n",
       "        text-align: right;\n",
       "    }\n",
       "</style>\n",
       "<table border=\"1\" class=\"dataframe\">\n",
       "  <thead>\n",
       "    <tr style=\"text-align: right;\">\n",
       "      <th></th>\n",
       "      <th>station_id</th>\n",
       "      <th>timestamp</th>\n",
       "      <th>temperature_celsius</th>\n",
       "      <th>humidity_percent</th>\n",
       "      <th>pm2_5</th>\n",
       "      <th>city_x</th>\n",
       "      <th>location</th>\n",
       "      <th>status</th>\n",
       "      <th>deployment_year</th>\n",
       "      <th>city_y</th>\n",
       "    </tr>\n",
       "  </thead>\n",
       "  <tbody>\n",
       "    <tr>\n",
       "      <th>1495</th>\n",
       "      <td>1005</td>\n",
       "      <td>2025-02-07 05:00:00</td>\n",
       "      <td>11.20</td>\n",
       "      <td>67.52</td>\n",
       "      <td>5.02</td>\n",
       "      <td>munich</td>\n",
       "      <td>{'latitude': 48.100052, 'longitude': 11.571568}</td>\n",
       "      <td>active</td>\n",
       "      <td>2018</td>\n",
       "      <td>munich</td>\n",
       "    </tr>\n",
       "    <tr>\n",
       "      <th>1496</th>\n",
       "      <td>1005</td>\n",
       "      <td>2025-01-14 08:00:00</td>\n",
       "      <td>6.77</td>\n",
       "      <td>59.94</td>\n",
       "      <td>70.04</td>\n",
       "      <td>munich</td>\n",
       "      <td>{'latitude': 48.100052, 'longitude': 11.571568}</td>\n",
       "      <td>active</td>\n",
       "      <td>2018</td>\n",
       "      <td>munich</td>\n",
       "    </tr>\n",
       "    <tr>\n",
       "      <th>1497</th>\n",
       "      <td>1005</td>\n",
       "      <td>2025-02-16 07:00:00</td>\n",
       "      <td>8.46</td>\n",
       "      <td>85.22</td>\n",
       "      <td>27.48</td>\n",
       "      <td>munich</td>\n",
       "      <td>{'latitude': 48.100052, 'longitude': 11.571568}</td>\n",
       "      <td>active</td>\n",
       "      <td>2018</td>\n",
       "      <td>munich</td>\n",
       "    </tr>\n",
       "    <tr>\n",
       "      <th>1498</th>\n",
       "      <td>1005</td>\n",
       "      <td>2025-03-18 10:00:00</td>\n",
       "      <td>4.37</td>\n",
       "      <td>72.65</td>\n",
       "      <td>47.22</td>\n",
       "      <td>munich</td>\n",
       "      <td>{'latitude': 48.100052, 'longitude': 11.571568}</td>\n",
       "      <td>active</td>\n",
       "      <td>2018</td>\n",
       "      <td>munich</td>\n",
       "    </tr>\n",
       "    <tr>\n",
       "      <th>1499</th>\n",
       "      <td>1005</td>\n",
       "      <td>2025-03-26 14:00:00</td>\n",
       "      <td>8.84</td>\n",
       "      <td>31.80</td>\n",
       "      <td>25.66</td>\n",
       "      <td>munich</td>\n",
       "      <td>{'latitude': 48.100052, 'longitude': 11.571568}</td>\n",
       "      <td>active</td>\n",
       "      <td>2018</td>\n",
       "      <td>munich</td>\n",
       "    </tr>\n",
       "  </tbody>\n",
       "</table>\n",
       "</div>"
      ],
      "text/plain": [
       "      station_id            timestamp  temperature_celsius  humidity_percent  \\\n",
       "1495        1005  2025-02-07 05:00:00                11.20             67.52   \n",
       "1496        1005  2025-01-14 08:00:00                 6.77             59.94   \n",
       "1497        1005  2025-02-16 07:00:00                 8.46             85.22   \n",
       "1498        1005  2025-03-18 10:00:00                 4.37             72.65   \n",
       "1499        1005  2025-03-26 14:00:00                 8.84             31.80   \n",
       "\n",
       "      pm2_5  city_x                                         location  status  \\\n",
       "1495   5.02  munich  {'latitude': 48.100052, 'longitude': 11.571568}  active   \n",
       "1496  70.04  munich  {'latitude': 48.100052, 'longitude': 11.571568}  active   \n",
       "1497  27.48  munich  {'latitude': 48.100052, 'longitude': 11.571568}  active   \n",
       "1498  47.22  munich  {'latitude': 48.100052, 'longitude': 11.571568}  active   \n",
       "1499  25.66  munich  {'latitude': 48.100052, 'longitude': 11.571568}  active   \n",
       "\n",
       "      deployment_year  city_y  \n",
       "1495             2018  munich  \n",
       "1496             2018  munich  \n",
       "1497             2018  munich  \n",
       "1498             2018  munich  \n",
       "1499             2018  munich  "
      ]
     },
     "execution_count": 52,
     "metadata": {},
     "output_type": "execute_result"
    }
   ],
   "source": [
    "combined_data.tail()"
   ]
  },
  {
   "cell_type": "code",
   "execution_count": 58,
   "metadata": {},
   "outputs": [],
   "source": [
    "combined_data_frame = combined_data.drop('city_x',axis=1)"
   ]
  },
  {
   "cell_type": "code",
   "execution_count": 57,
   "metadata": {},
   "outputs": [
    {
     "data": {
      "text/html": [
       "<div>\n",
       "<style scoped>\n",
       "    .dataframe tbody tr th:only-of-type {\n",
       "        vertical-align: middle;\n",
       "    }\n",
       "\n",
       "    .dataframe tbody tr th {\n",
       "        vertical-align: top;\n",
       "    }\n",
       "\n",
       "    .dataframe thead th {\n",
       "        text-align: right;\n",
       "    }\n",
       "</style>\n",
       "<table border=\"1\" class=\"dataframe\">\n",
       "  <thead>\n",
       "    <tr style=\"text-align: right;\">\n",
       "      <th></th>\n",
       "      <th>station_id</th>\n",
       "      <th>timestamp</th>\n",
       "      <th>temperature_celsius</th>\n",
       "      <th>humidity_percent</th>\n",
       "      <th>pm2_5</th>\n",
       "      <th>city_x</th>\n",
       "      <th>location</th>\n",
       "      <th>status</th>\n",
       "      <th>deployment_year</th>\n",
       "      <th>city_y</th>\n",
       "    </tr>\n",
       "  </thead>\n",
       "  <tbody>\n",
       "    <tr>\n",
       "      <th>0</th>\n",
       "      <td>1006</td>\n",
       "      <td>2025-03-05 23:00:00</td>\n",
       "      <td>11.14</td>\n",
       "      <td>92.50</td>\n",
       "      <td>43.29</td>\n",
       "      <td>tokyo</td>\n",
       "      <td>{'latitude': 35.668296, 'longitude': 139.765741}</td>\n",
       "      <td>active</td>\n",
       "      <td>2018</td>\n",
       "      <td>tokyo</td>\n",
       "    </tr>\n",
       "    <tr>\n",
       "      <th>1</th>\n",
       "      <td>1006</td>\n",
       "      <td>2025-03-31 01:00:00</td>\n",
       "      <td>9.97</td>\n",
       "      <td>94.61</td>\n",
       "      <td>34.22</td>\n",
       "      <td>tokyo</td>\n",
       "      <td>{'latitude': 35.668296, 'longitude': 139.765741}</td>\n",
       "      <td>active</td>\n",
       "      <td>2018</td>\n",
       "      <td>tokyo</td>\n",
       "    </tr>\n",
       "    <tr>\n",
       "      <th>2</th>\n",
       "      <td>1006</td>\n",
       "      <td>2025-01-14 09:00:00</td>\n",
       "      <td>18.95</td>\n",
       "      <td>54.45</td>\n",
       "      <td>36.74</td>\n",
       "      <td>tokyo</td>\n",
       "      <td>{'latitude': 35.668296, 'longitude': 139.765741}</td>\n",
       "      <td>active</td>\n",
       "      <td>2018</td>\n",
       "      <td>tokyo</td>\n",
       "    </tr>\n",
       "    <tr>\n",
       "      <th>3</th>\n",
       "      <td>1006</td>\n",
       "      <td>2025-02-01 02:00:00</td>\n",
       "      <td>16.94</td>\n",
       "      <td>61.41</td>\n",
       "      <td>13.78</td>\n",
       "      <td>tokyo</td>\n",
       "      <td>{'latitude': 35.668296, 'longitude': 139.765741}</td>\n",
       "      <td>active</td>\n",
       "      <td>2018</td>\n",
       "      <td>tokyo</td>\n",
       "    </tr>\n",
       "    <tr>\n",
       "      <th>4</th>\n",
       "      <td>1006</td>\n",
       "      <td>2025-01-27 14:00:00</td>\n",
       "      <td>14.38</td>\n",
       "      <td>54.03</td>\n",
       "      <td>10.38</td>\n",
       "      <td>tokyo</td>\n",
       "      <td>{'latitude': 35.668296, 'longitude': 139.765741}</td>\n",
       "      <td>active</td>\n",
       "      <td>2018</td>\n",
       "      <td>tokyo</td>\n",
       "    </tr>\n",
       "  </tbody>\n",
       "</table>\n",
       "</div>"
      ],
      "text/plain": [
       "   station_id            timestamp  temperature_celsius  humidity_percent  \\\n",
       "0        1006  2025-03-05 23:00:00                11.14             92.50   \n",
       "1        1006  2025-03-31 01:00:00                 9.97             94.61   \n",
       "2        1006  2025-01-14 09:00:00                18.95             54.45   \n",
       "3        1006  2025-02-01 02:00:00                16.94             61.41   \n",
       "4        1006  2025-01-27 14:00:00                14.38             54.03   \n",
       "\n",
       "   pm2_5 city_x                                          location  status  \\\n",
       "0  43.29  tokyo  {'latitude': 35.668296, 'longitude': 139.765741}  active   \n",
       "1  34.22  tokyo  {'latitude': 35.668296, 'longitude': 139.765741}  active   \n",
       "2  36.74  tokyo  {'latitude': 35.668296, 'longitude': 139.765741}  active   \n",
       "3  13.78  tokyo  {'latitude': 35.668296, 'longitude': 139.765741}  active   \n",
       "4  10.38  tokyo  {'latitude': 35.668296, 'longitude': 139.765741}  active   \n",
       "\n",
       "   deployment_year city_y  \n",
       "0             2018  tokyo  \n",
       "1             2018  tokyo  \n",
       "2             2018  tokyo  \n",
       "3             2018  tokyo  \n",
       "4             2018  tokyo  "
      ]
     },
     "execution_count": 57,
     "metadata": {},
     "output_type": "execute_result"
    }
   ],
   "source": [
    "combined_data.head()"
   ]
  },
  {
   "cell_type": "code",
   "execution_count": 61,
   "metadata": {},
   "outputs": [],
   "source": [
    "combined_data_frame = combined_data_frame.rename(columns={'city_y':'city'})"
   ]
  },
  {
   "cell_type": "code",
   "execution_count": 63,
   "metadata": {},
   "outputs": [
    {
     "data": {
      "text/html": [
       "<div>\n",
       "<style scoped>\n",
       "    .dataframe tbody tr th:only-of-type {\n",
       "        vertical-align: middle;\n",
       "    }\n",
       "\n",
       "    .dataframe tbody tr th {\n",
       "        vertical-align: top;\n",
       "    }\n",
       "\n",
       "    .dataframe thead th {\n",
       "        text-align: right;\n",
       "    }\n",
       "</style>\n",
       "<table border=\"1\" class=\"dataframe\">\n",
       "  <thead>\n",
       "    <tr style=\"text-align: right;\">\n",
       "      <th></th>\n",
       "      <th>station_id</th>\n",
       "      <th>timestamp</th>\n",
       "      <th>temperature_celsius</th>\n",
       "      <th>humidity_percent</th>\n",
       "      <th>pm2_5</th>\n",
       "      <th>location</th>\n",
       "      <th>status</th>\n",
       "      <th>deployment_year</th>\n",
       "      <th>city</th>\n",
       "    </tr>\n",
       "  </thead>\n",
       "  <tbody>\n",
       "    <tr>\n",
       "      <th>0</th>\n",
       "      <td>1006</td>\n",
       "      <td>2025-03-05 23:00:00</td>\n",
       "      <td>11.14</td>\n",
       "      <td>92.50</td>\n",
       "      <td>43.29</td>\n",
       "      <td>{'latitude': 35.668296, 'longitude': 139.765741}</td>\n",
       "      <td>active</td>\n",
       "      <td>2018</td>\n",
       "      <td>tokyo</td>\n",
       "    </tr>\n",
       "    <tr>\n",
       "      <th>1</th>\n",
       "      <td>1006</td>\n",
       "      <td>2025-03-31 01:00:00</td>\n",
       "      <td>9.97</td>\n",
       "      <td>94.61</td>\n",
       "      <td>34.22</td>\n",
       "      <td>{'latitude': 35.668296, 'longitude': 139.765741}</td>\n",
       "      <td>active</td>\n",
       "      <td>2018</td>\n",
       "      <td>tokyo</td>\n",
       "    </tr>\n",
       "    <tr>\n",
       "      <th>2</th>\n",
       "      <td>1006</td>\n",
       "      <td>2025-01-14 09:00:00</td>\n",
       "      <td>18.95</td>\n",
       "      <td>54.45</td>\n",
       "      <td>36.74</td>\n",
       "      <td>{'latitude': 35.668296, 'longitude': 139.765741}</td>\n",
       "      <td>active</td>\n",
       "      <td>2018</td>\n",
       "      <td>tokyo</td>\n",
       "    </tr>\n",
       "    <tr>\n",
       "      <th>3</th>\n",
       "      <td>1006</td>\n",
       "      <td>2025-02-01 02:00:00</td>\n",
       "      <td>16.94</td>\n",
       "      <td>61.41</td>\n",
       "      <td>13.78</td>\n",
       "      <td>{'latitude': 35.668296, 'longitude': 139.765741}</td>\n",
       "      <td>active</td>\n",
       "      <td>2018</td>\n",
       "      <td>tokyo</td>\n",
       "    </tr>\n",
       "    <tr>\n",
       "      <th>4</th>\n",
       "      <td>1006</td>\n",
       "      <td>2025-01-27 14:00:00</td>\n",
       "      <td>14.38</td>\n",
       "      <td>54.03</td>\n",
       "      <td>10.38</td>\n",
       "      <td>{'latitude': 35.668296, 'longitude': 139.765741}</td>\n",
       "      <td>active</td>\n",
       "      <td>2018</td>\n",
       "      <td>tokyo</td>\n",
       "    </tr>\n",
       "  </tbody>\n",
       "</table>\n",
       "</div>"
      ],
      "text/plain": [
       "   station_id            timestamp  temperature_celsius  humidity_percent  \\\n",
       "0        1006  2025-03-05 23:00:00                11.14             92.50   \n",
       "1        1006  2025-03-31 01:00:00                 9.97             94.61   \n",
       "2        1006  2025-01-14 09:00:00                18.95             54.45   \n",
       "3        1006  2025-02-01 02:00:00                16.94             61.41   \n",
       "4        1006  2025-01-27 14:00:00                14.38             54.03   \n",
       "\n",
       "   pm2_5                                          location  status  \\\n",
       "0  43.29  {'latitude': 35.668296, 'longitude': 139.765741}  active   \n",
       "1  34.22  {'latitude': 35.668296, 'longitude': 139.765741}  active   \n",
       "2  36.74  {'latitude': 35.668296, 'longitude': 139.765741}  active   \n",
       "3  13.78  {'latitude': 35.668296, 'longitude': 139.765741}  active   \n",
       "4  10.38  {'latitude': 35.668296, 'longitude': 139.765741}  active   \n",
       "\n",
       "   deployment_year   city  \n",
       "0             2018  tokyo  \n",
       "1             2018  tokyo  \n",
       "2             2018  tokyo  \n",
       "3             2018  tokyo  \n",
       "4             2018  tokyo  "
      ]
     },
     "execution_count": 63,
     "metadata": {},
     "output_type": "execute_result"
    }
   ],
   "source": [
    "combined_data_frame.head()"
   ]
  },
  {
   "cell_type": "markdown",
   "metadata": {
    "id": "f453b143"
   },
   "source": [
    "## TASK 3: Clean data\n",
    "\n",
    "Filter the merged DataFrame to keep only 'active' stations and remove rows with missing values in 'temperature_celsius' or 'pm2_5'.\n"
   ]
  },
  {
   "cell_type": "markdown",
   "metadata": {
    "id": "88ecd5a3"
   },
   "source": [
    "**Reasoning**:\n",
    "Filter the merged dataframe to keep only active stations and remove rows with missing values in the specified columns.\n",
    "\n"
   ]
  },
  {
   "cell_type": "code",
   "execution_count": 64,
   "metadata": {
    "id": "fa0aa6f0"
   },
   "outputs": [
    {
     "data": {
      "text/plain": [
       "station_id              0\n",
       "timestamp               0\n",
       "temperature_celsius    14\n",
       "humidity_percent       23\n",
       "pm2_5                  26\n",
       "location                0\n",
       "status                  0\n",
       "deployment_year         0\n",
       "city                    0\n",
       "dtype: int64"
      ]
     },
     "execution_count": 64,
     "metadata": {},
     "output_type": "execute_result"
    }
   ],
   "source": [
    "# WRITE YOUR CODE HERE\n",
    "combined_data_frame.isnull().sum()"
   ]
  },
  {
   "cell_type": "code",
   "execution_count": 66,
   "metadata": {},
   "outputs": [],
   "source": [
    "filtered_data_task3 = combined_data_frame.dropna(subset=['temperature_celsius','pm2_5'],how='any')"
   ]
  },
  {
   "cell_type": "code",
   "execution_count": 67,
   "metadata": {},
   "outputs": [
    {
     "data": {
      "text/plain": [
       "station_id              0\n",
       "timestamp               0\n",
       "temperature_celsius     0\n",
       "humidity_percent       23\n",
       "pm2_5                   0\n",
       "location                0\n",
       "status                  0\n",
       "deployment_year         0\n",
       "city                    0\n",
       "dtype: int64"
      ]
     },
     "execution_count": 67,
     "metadata": {},
     "output_type": "execute_result"
    }
   ],
   "source": [
    "filtered_data_task3.isnull().sum()"
   ]
  },
  {
   "cell_type": "code",
   "execution_count": 71,
   "metadata": {},
   "outputs": [
    {
     "data": {
      "text/plain": [
       "1460"
      ]
     },
     "execution_count": 71,
     "metadata": {},
     "output_type": "execute_result"
    }
   ],
   "source": [
    "len(filtered_data_task3)"
   ]
  },
  {
   "cell_type": "code",
   "execution_count": 74,
   "metadata": {},
   "outputs": [],
   "source": [
    "filtered_data_task3 = filtered_data_task3[filtered_data_task3.status=='active']"
   ]
  },
  {
   "cell_type": "code",
   "execution_count": 75,
   "metadata": {},
   "outputs": [
    {
     "data": {
      "text/plain": [
       "1361"
      ]
     },
     "execution_count": 75,
     "metadata": {},
     "output_type": "execute_result"
    }
   ],
   "source": [
    "len(filtered_data_task3)"
   ]
  },
  {
   "cell_type": "code",
   "execution_count": 79,
   "metadata": {},
   "outputs": [
    {
     "data": {
      "text/plain": [
       "0"
      ]
     },
     "execution_count": 79,
     "metadata": {},
     "output_type": "execute_result"
    }
   ],
   "source": [
    "len(filtered_data_task3[filtered_data_task3.status=='maintenance'])"
   ]
  },
  {
   "cell_type": "code",
   "execution_count": 80,
   "metadata": {},
   "outputs": [
    {
     "data": {
      "text/plain": [
       "station_id              0\n",
       "timestamp               0\n",
       "temperature_celsius     0\n",
       "humidity_percent       22\n",
       "pm2_5                   0\n",
       "location                0\n",
       "status                  0\n",
       "deployment_year         0\n",
       "city                    0\n",
       "dtype: int64"
      ]
     },
     "execution_count": 80,
     "metadata": {},
     "output_type": "execute_result"
    }
   ],
   "source": [
    "filtered_data_task3.isnull().sum()"
   ]
  },
  {
   "cell_type": "code",
   "execution_count": 81,
   "metadata": {},
   "outputs": [
    {
     "data": {
      "text/html": [
       "<div>\n",
       "<style scoped>\n",
       "    .dataframe tbody tr th:only-of-type {\n",
       "        vertical-align: middle;\n",
       "    }\n",
       "\n",
       "    .dataframe tbody tr th {\n",
       "        vertical-align: top;\n",
       "    }\n",
       "\n",
       "    .dataframe thead th {\n",
       "        text-align: right;\n",
       "    }\n",
       "</style>\n",
       "<table border=\"1\" class=\"dataframe\">\n",
       "  <thead>\n",
       "    <tr style=\"text-align: right;\">\n",
       "      <th></th>\n",
       "      <th>status</th>\n",
       "      <th>humidity_percent</th>\n",
       "    </tr>\n",
       "  </thead>\n",
       "  <tbody>\n",
       "    <tr>\n",
       "      <th>0</th>\n",
       "      <td>active</td>\n",
       "      <td>92.50</td>\n",
       "    </tr>\n",
       "    <tr>\n",
       "      <th>1</th>\n",
       "      <td>active</td>\n",
       "      <td>94.61</td>\n",
       "    </tr>\n",
       "    <tr>\n",
       "      <th>2</th>\n",
       "      <td>active</td>\n",
       "      <td>54.45</td>\n",
       "    </tr>\n",
       "    <tr>\n",
       "      <th>3</th>\n",
       "      <td>active</td>\n",
       "      <td>61.41</td>\n",
       "    </tr>\n",
       "    <tr>\n",
       "      <th>4</th>\n",
       "      <td>active</td>\n",
       "      <td>54.03</td>\n",
       "    </tr>\n",
       "    <tr>\n",
       "      <th>...</th>\n",
       "      <td>...</td>\n",
       "      <td>...</td>\n",
       "    </tr>\n",
       "    <tr>\n",
       "      <th>1495</th>\n",
       "      <td>active</td>\n",
       "      <td>67.52</td>\n",
       "    </tr>\n",
       "    <tr>\n",
       "      <th>1496</th>\n",
       "      <td>active</td>\n",
       "      <td>59.94</td>\n",
       "    </tr>\n",
       "    <tr>\n",
       "      <th>1497</th>\n",
       "      <td>active</td>\n",
       "      <td>85.22</td>\n",
       "    </tr>\n",
       "    <tr>\n",
       "      <th>1498</th>\n",
       "      <td>active</td>\n",
       "      <td>72.65</td>\n",
       "    </tr>\n",
       "    <tr>\n",
       "      <th>1499</th>\n",
       "      <td>active</td>\n",
       "      <td>31.80</td>\n",
       "    </tr>\n",
       "  </tbody>\n",
       "</table>\n",
       "<p>1361 rows × 2 columns</p>\n",
       "</div>"
      ],
      "text/plain": [
       "      status  humidity_percent\n",
       "0     active             92.50\n",
       "1     active             94.61\n",
       "2     active             54.45\n",
       "3     active             61.41\n",
       "4     active             54.03\n",
       "...      ...               ...\n",
       "1495  active             67.52\n",
       "1496  active             59.94\n",
       "1497  active             85.22\n",
       "1498  active             72.65\n",
       "1499  active             31.80\n",
       "\n",
       "[1361 rows x 2 columns]"
      ]
     },
     "execution_count": 81,
     "metadata": {},
     "output_type": "execute_result"
    }
   ],
   "source": [
    "filtered_data_task3[['status','humidity_percent']]"
   ]
  },
  {
   "cell_type": "markdown",
   "metadata": {
    "id": "5b6a3be6"
   },
   "source": [
    "## TASK 4: Analyze data\n",
    "\n",
    "Calculate the average 'temperature_celsius' and 'pm2_5' for each city.\n"
   ]
  },
  {
   "cell_type": "markdown",
   "metadata": {
    "id": "485603b4"
   },
   "source": [
    "**Reasoning**:\n",
    "Calculate the mean temperature and PM2.5 for each city by grouping the cleaned_df by city and applying the mean aggregation. Then display the head of the resulting dataframe.\n",
    "\n"
   ]
  },
  {
   "cell_type": "code",
   "execution_count": 84,
   "metadata": {
    "id": "ac870825"
   },
   "outputs": [],
   "source": [
    "# WRITE YOUR CODE HERE\n",
    "resulting_data_frame_task4 = filtered_data_task3.groupby('city')[['temperature_celsius','pm2_5']].mean()"
   ]
  },
  {
   "cell_type": "code",
   "execution_count": 85,
   "metadata": {},
   "outputs": [
    {
     "data": {
      "text/html": [
       "<div>\n",
       "<style scoped>\n",
       "    .dataframe tbody tr th:only-of-type {\n",
       "        vertical-align: middle;\n",
       "    }\n",
       "\n",
       "    .dataframe tbody tr th {\n",
       "        vertical-align: top;\n",
       "    }\n",
       "\n",
       "    .dataframe thead th {\n",
       "        text-align: right;\n",
       "    }\n",
       "</style>\n",
       "<table border=\"1\" class=\"dataframe\">\n",
       "  <thead>\n",
       "    <tr style=\"text-align: right;\">\n",
       "      <th></th>\n",
       "      <th>temperature_celsius</th>\n",
       "      <th>pm2_5</th>\n",
       "    </tr>\n",
       "    <tr>\n",
       "      <th>city</th>\n",
       "      <th></th>\n",
       "      <th></th>\n",
       "    </tr>\n",
       "  </thead>\n",
       "  <tbody>\n",
       "    <tr>\n",
       "      <th>munich</th>\n",
       "      <td>7.550826</td>\n",
       "      <td>40.038595</td>\n",
       "    </tr>\n",
       "    <tr>\n",
       "      <th>sydney</th>\n",
       "      <td>24.261897</td>\n",
       "      <td>39.060256</td>\n",
       "    </tr>\n",
       "    <tr>\n",
       "      <th>tokyo</th>\n",
       "      <td>12.685729</td>\n",
       "      <td>39.741027</td>\n",
       "    </tr>\n",
       "  </tbody>\n",
       "</table>\n",
       "</div>"
      ],
      "text/plain": [
       "        temperature_celsius      pm2_5\n",
       "city                                  \n",
       "munich             7.550826  40.038595\n",
       "sydney            24.261897  39.060256\n",
       "tokyo             12.685729  39.741027"
      ]
     },
     "execution_count": 85,
     "metadata": {},
     "output_type": "execute_result"
    }
   ],
   "source": [
    "resulting_data_frame_task4.head()"
   ]
  },
  {
   "cell_type": "code",
   "execution_count": 86,
   "metadata": {},
   "outputs": [
    {
     "data": {
      "text/plain": [
       "3"
      ]
     },
     "execution_count": 86,
     "metadata": {},
     "output_type": "execute_result"
    }
   ],
   "source": [
    "len(resulting_data_frame_task4)"
   ]
  },
  {
   "cell_type": "code",
   "execution_count": 88,
   "metadata": {},
   "outputs": [
    {
     "data": {
      "text/plain": [
       "3"
      ]
     },
     "execution_count": 88,
     "metadata": {},
     "output_type": "execute_result"
    }
   ],
   "source": [
    "len(resulting_data_frame_task4)"
   ]
  },
  {
   "cell_type": "code",
   "execution_count": 89,
   "metadata": {},
   "outputs": [
    {
     "data": {
      "text/plain": [
       "1361"
      ]
     },
     "execution_count": 89,
     "metadata": {},
     "output_type": "execute_result"
    }
   ],
   "source": [
    "len(filtered_data_task3)"
   ]
  },
  {
   "cell_type": "markdown",
   "metadata": {
    "id": "40979f5f"
   },
   "source": [
    "## TASK 5: Save report\n",
    "\n",
    "Save the city summary as a CSV file named `city_summary_report.csv` with the specified columns.\n"
   ]
  },
  {
   "cell_type": "markdown",
   "metadata": {
    "id": "1842ff9e"
   },
   "source": [
    "**Reasoning**:\n",
    "Reset the index, rename the city column, and save the city summary DataFrame to a CSV file.\n",
    "\n"
   ]
  },
  {
   "cell_type": "code",
   "execution_count": 3,
   "metadata": {
    "id": "2d720f4f"
   },
   "outputs": [],
   "source": [
    "# WRITE YOUR CODE HERE\n"
   ]
  }
 ],
 "metadata": {
  "colab": {
   "provenance": []
  },
  "kernelspec": {
   "display_name": "Python 3 (ipykernel)",
   "language": "python",
   "name": "python3"
  },
  "language_info": {
   "codemirror_mode": {
    "name": "ipython",
    "version": 3
   },
   "file_extension": ".py",
   "mimetype": "text/x-python",
   "name": "python",
   "nbconvert_exporter": "python",
   "pygments_lexer": "ipython3",
   "version": "3.13.5"
  }
 },
 "nbformat": 4,
 "nbformat_minor": 4
}
